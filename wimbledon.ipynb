{
 "cells": [
  {
   "cell_type": "code",
   "execution_count": 1,
   "metadata": {},
   "outputs": [],
   "source": [
    "import pandas as pd"
   ]
  },
  {
   "cell_type": "code",
   "execution_count": 2,
   "metadata": {},
   "outputs": [],
   "source": [
    "df=pd.read_csv('wimbledon.csv')"
   ]
  },
  {
   "cell_type": "code",
   "execution_count": 3,
   "metadata": {},
   "outputs": [
    {
     "data": {
      "text/plain": [
       "Index(['Unnamed: 0', 'age1', 'age2', 'best_of', 'draw_size', 'hand1', 'hand2',\n",
       "       'ht1', 'ht2', 'id1', 'id2', 'ioc1', 'ioc2', 'loser1', 'loser2',\n",
       "       'match_num', 'name1', 'rank1', 'rank2', 'round', 'win', 'year'],\n",
       "      dtype='object')"
      ]
     },
     "execution_count": 3,
     "metadata": {},
     "output_type": "execute_result"
    }
   ],
   "source": [
    "df.columns"
   ]
  },
  {
   "cell_type": "code",
   "execution_count": 4,
   "metadata": {},
   "outputs": [],
   "source": [
    "df=df.drop(columns=['Unnamed: 0','loser1','loser2','name1','id1','id2'])"
   ]
  },
  {
   "cell_type": "code",
   "execution_count": 5,
   "metadata": {},
   "outputs": [
    {
     "data": {
      "text/plain": [
       "Index(['age1', 'age2', 'best_of', 'draw_size', 'hand1', 'hand2', 'ht1', 'ht2',\n",
       "       'ioc1', 'ioc2', 'match_num', 'rank1', 'rank2', 'round', 'win', 'year'],\n",
       "      dtype='object')"
      ]
     },
     "execution_count": 5,
     "metadata": {},
     "output_type": "execute_result"
    }
   ],
   "source": [
    "df.columns"
   ]
  },
  {
   "cell_type": "code",
   "execution_count": 6,
   "metadata": {},
   "outputs": [],
   "source": [
    "df.hand1 = pd.Categorical(df.hand1).codes\n",
    "df.hand2 = pd.Categorical(df.hand2).codes\n",
    "df.ioc1 = pd.Categorical(df.ioc1).codes\n",
    "df.ioc2 = pd.Categorical(df.ioc2).codes"
   ]
  },
  {
   "cell_type": "code",
   "execution_count": 11,
   "metadata": {},
   "outputs": [],
   "source": [
    "y=df['win']\n",
    "X=df.drop(columns='win')\n",
    "from sklearn.model_selection import train_test_split\n",
    "X_train, X_test, y_train, y_test = train_test_split(X, y, test_size=0.25)"
   ]
  },
  {
   "cell_type": "code",
   "execution_count": 12,
   "metadata": {},
   "outputs": [
    {
     "data": {
      "text/plain": [
       "LogisticRegression(C=1.0, class_weight=None, dual=False, fit_intercept=True,\n",
       "          intercept_scaling=1, max_iter=100, multi_class='ovr', n_jobs=1,\n",
       "          penalty='l2', random_state=None, solver='liblinear', tol=0.0001,\n",
       "          verbose=0, warm_start=False)"
      ]
     },
     "execution_count": 12,
     "metadata": {},
     "output_type": "execute_result"
    }
   ],
   "source": [
    "from sklearn.linear_model import LogisticRegression\n",
    "logisticRegr = LogisticRegression()\n",
    "logisticRegr.fit(X_train, y_train)"
   ]
  },
  {
   "cell_type": "code",
   "execution_count": 13,
   "metadata": {},
   "outputs": [
    {
     "name": "stdout",
     "output_type": "stream",
     "text": [
      "0.6717752234993615\n"
     ]
    }
   ],
   "source": [
    "score = logisticRegr.score(X_test, y_test)\n",
    "print(score) #value was higher in R"
   ]
  },
  {
   "cell_type": "code",
   "execution_count": 10,
   "metadata": {},
   "outputs": [
    {
     "name": "stdout",
     "output_type": "stream",
     "text": [
      "                            OLS Regression Results                            \n",
      "==============================================================================\n",
      "Dep. Variable:                    win   R-squared:                       0.095\n",
      "Model:                            OLS   Adj. R-squared:                  0.093\n",
      "Method:                 Least Squares   F-statistic:                     75.34\n",
      "Date:                Sun, 05 May 2019   Prob (F-statistic):          6.39e-191\n",
      "Time:                        19:13:13   Log-Likelihood:                -6351.6\n",
      "No. Observations:                9394   AIC:                         1.273e+04\n",
      "Df Residuals:                    9380   BIC:                         1.283e+04\n",
      "Df Model:                          13                                         \n",
      "Covariance Type:            nonrobust                                         \n",
      "==============================================================================\n",
      "                 coef    std err          t      P>|t|      [0.025      0.975]\n",
      "------------------------------------------------------------------------------\n",
      "age1          -0.0022      0.001     -1.615      0.106      -0.005       0.000\n",
      "age2           0.0022      0.001      1.615      0.106      -0.000       0.005\n",
      "best_of        0.0002      0.000      0.524      0.600      -0.000       0.001\n",
      "draw_size      0.0039      0.007      0.524      0.600      -0.011       0.018\n",
      "hand1         -0.0210      0.014     -1.530      0.126      -0.048       0.006\n",
      "hand2          0.0210      0.014      1.530      0.126      -0.006       0.048\n",
      "ht1            0.0048      0.001      6.118      0.000       0.003       0.006\n",
      "ht2           -0.0048      0.001     -6.118      0.000      -0.006      -0.003\n",
      "ioc1           0.0011      0.000      5.360      0.000       0.001       0.002\n",
      "ioc2          -0.0011      0.000     -5.360      0.000      -0.002      -0.001\n",
      "match_num   2.402e-18      0.000   1.12e-14      1.000      -0.000       0.000\n",
      "rank1         -0.0011   5.73e-05    -19.405      0.000      -0.001      -0.001\n",
      "rank2          0.0011   5.73e-05     19.405      0.000       0.001       0.001\n",
      "round        4.77e-18      0.007   7.28e-16      1.000      -0.013       0.013\n",
      "year        2.399e-17      0.000   4.86e-14      1.000      -0.001       0.001\n",
      "==============================================================================\n",
      "Omnibus:                        0.000   Durbin-Watson:                   0.187\n",
      "Prob(Omnibus):                  1.000   Jarque-Bera (JB):              963.299\n",
      "Skew:                           0.000   Prob(JB):                    6.64e-210\n",
      "Kurtosis:                       1.431   Cond. No.                     3.24e+18\n",
      "==============================================================================\n",
      "\n",
      "Warnings:\n",
      "[1] Standard Errors assume that the covariance matrix of the errors is correctly specified.\n",
      "[2] The smallest eigenvalue is 3.67e-27. This might indicate that there are\n",
      "strong multicollinearity problems or that the design matrix is singular.\n"
     ]
    }
   ],
   "source": [
    "import statsmodels.api as sm\n",
    "from scipy import stats\n",
    "X2 = sm.add_constant(X)\n",
    "est = sm.OLS(y, X2)\n",
    "est2 = est.fit()\n",
    "print(est2.summary())"
   ]
  },
  {
   "cell_type": "code",
   "execution_count": null,
   "metadata": {},
   "outputs": [],
   "source": [
    "# we have added a new variable country(ioc1, ioc2) after the presentation"
   ]
  }
 ],
 "metadata": {
  "kernelspec": {
   "display_name": "Python 3",
   "language": "python",
   "name": "python3"
  },
  "language_info": {
   "codemirror_mode": {
    "name": "ipython",
    "version": 3
   },
   "file_extension": ".py",
   "mimetype": "text/x-python",
   "name": "python",
   "nbconvert_exporter": "python",
   "pygments_lexer": "ipython3",
   "version": "3.7.0"
  }
 },
 "nbformat": 4,
 "nbformat_minor": 2
}
