{
 "cells": [
  {
   "cell_type": "code",
   "execution_count": 47,
   "metadata": {},
   "outputs": [],
   "source": [
    "import pandas as pd"
   ]
  },
  {
   "cell_type": "code",
   "execution_count": 48,
   "metadata": {},
   "outputs": [],
   "source": [
    "df=pd.read_csv('USopen.csv')"
   ]
  },
  {
   "cell_type": "code",
   "execution_count": 49,
   "metadata": {},
   "outputs": [
    {
     "data": {
      "text/plain": [
       "Index(['Unnamed: 0', 'age1', 'age2', 'best_of', 'draw_size', 'hand1', 'hand2',\n",
       "       'ht1', 'ht2', 'id1', 'id2', 'ioc1', 'ioc2', 'loser1', 'loser2',\n",
       "       'match_num', 'name1', 'rank1', 'rank2', 'round', 'win', 'year'],\n",
       "      dtype='object')"
      ]
     },
     "execution_count": 49,
     "metadata": {},
     "output_type": "execute_result"
    }
   ],
   "source": [
    "df.columns"
   ]
  },
  {
   "cell_type": "code",
   "execution_count": 50,
   "metadata": {},
   "outputs": [],
   "source": [
    "df=df.drop(columns=['Unnamed: 0','loser1','loser2','name1','id1','id2'])"
   ]
  },
  {
   "cell_type": "code",
   "execution_count": 51,
   "metadata": {},
   "outputs": [
    {
     "data": {
      "text/plain": [
       "Index(['age1', 'age2', 'best_of', 'draw_size', 'hand1', 'hand2', 'ht1', 'ht2',\n",
       "       'ioc1', 'ioc2', 'match_num', 'rank1', 'rank2', 'round', 'win', 'year'],\n",
       "      dtype='object')"
      ]
     },
     "execution_count": 51,
     "metadata": {},
     "output_type": "execute_result"
    }
   ],
   "source": [
    "df.columns"
   ]
  },
  {
   "cell_type": "code",
   "execution_count": 52,
   "metadata": {},
   "outputs": [],
   "source": [
    "df.hand1 = pd.Categorical(df.hand1).codes\n",
    "df.hand2 = pd.Categorical(df.hand2).codes\n",
    "df.ioc1 = pd.Categorical(df.ioc1).codes\n",
    "df.ioc2 = pd.Categorical(df.ioc2).codes"
   ]
  },
  {
   "cell_type": "code",
   "execution_count": 53,
   "metadata": {},
   "outputs": [],
   "source": [
    "y=df['win']\n",
    "X=df.drop(columns='win')\n",
    "from sklearn.model_selection import train_test_split\n",
    "X_train, X_test, y_train, y_test = train_test_split(X, y, test_size=0.25)"
   ]
  },
  {
   "cell_type": "code",
   "execution_count": 54,
   "metadata": {},
   "outputs": [
    {
     "data": {
      "text/plain": [
       "LogisticRegression(C=1.0, class_weight=None, dual=False, fit_intercept=True,\n",
       "          intercept_scaling=1, max_iter=100, multi_class='ovr', n_jobs=1,\n",
       "          penalty='l2', random_state=None, solver='liblinear', tol=0.0001,\n",
       "          verbose=0, warm_start=False)"
      ]
     },
     "execution_count": 54,
     "metadata": {},
     "output_type": "execute_result"
    }
   ],
   "source": [
    "from sklearn.linear_model import LogisticRegression\n",
    "logisticRegr = LogisticRegression()\n",
    "logisticRegr.fit(X_train, y_train)"
   ]
  },
  {
   "cell_type": "code",
   "execution_count": 55,
   "metadata": {},
   "outputs": [
    {
     "name": "stdout",
     "output_type": "stream",
     "text": [
      "0.6892872385830132\n"
     ]
    }
   ],
   "source": [
    "score = logisticRegr.score(X_test, y_test)\n",
    "print(score) #value was higher in R"
   ]
  },
  {
   "cell_type": "code",
   "execution_count": 56,
   "metadata": {},
   "outputs": [
    {
     "name": "stdout",
     "output_type": "stream",
     "text": [
      "                            OLS Regression Results                            \n",
      "==============================================================================\n",
      "Dep. Variable:                    win   R-squared:                       0.122\n",
      "Model:                            OLS   Adj. R-squared:                  0.121\n",
      "Method:                 Least Squares   F-statistic:                     92.90\n",
      "Date:                Sun, 05 May 2019   Prob (F-statistic):          1.83e-251\n",
      "Time:                        19:12:58   Log-Likelihood:                -6190.8\n",
      "No. Observations:                9370   AIC:                         1.241e+04\n",
      "Df Residuals:                    9355   BIC:                         1.252e+04\n",
      "Df Model:                          14                                         \n",
      "Covariance Type:            nonrobust                                         \n",
      "==============================================================================\n",
      "                 coef    std err          t      P>|t|      [0.025      0.975]\n",
      "------------------------------------------------------------------------------\n",
      "age1          -0.0069      0.001     -5.173      0.000      -0.009      -0.004\n",
      "age2           0.0069      0.001      5.173      0.000       0.004       0.009\n",
      "best_of     4.115e-15      0.117   3.51e-14      1.000      -0.230       0.230\n",
      "draw_size      0.0039      0.009      0.456      0.649      -0.013       0.021\n",
      "hand1         -0.0358      0.014     -2.647      0.008      -0.062      -0.009\n",
      "hand2          0.0358      0.014      2.647      0.008       0.009       0.062\n",
      "ht1            0.0013      0.001      1.708      0.088      -0.000       0.003\n",
      "ht2           -0.0013      0.001     -1.708      0.088      -0.003       0.000\n",
      "ioc1           0.0017      0.000      8.363      0.000       0.001       0.002\n",
      "ioc2          -0.0017      0.000     -8.363      0.000      -0.002      -0.001\n",
      "match_num  -6.031e-18      0.000  -2.59e-14      1.000      -0.000       0.000\n",
      "rank1         -0.0013   5.67e-05    -23.418      0.000      -0.001      -0.001\n",
      "rank2          0.0013   5.67e-05     23.418      0.000       0.001       0.001\n",
      "round       1.041e-17      0.007   1.54e-15      1.000      -0.013       0.013\n",
      "year        -2.08e-17      0.000  -4.29e-14      1.000      -0.001       0.001\n",
      "==============================================================================\n",
      "Omnibus:                        0.000   Durbin-Watson:                   0.243\n",
      "Prob(Omnibus):                  1.000   Jarque-Bera (JB):              911.515\n",
      "Skew:                           0.000   Prob(JB):                    1.17e-198\n",
      "Kurtosis:                       1.472   Cond. No.                     4.90e+04\n",
      "==============================================================================\n",
      "\n",
      "Warnings:\n",
      "[1] Standard Errors assume that the covariance matrix of the errors is correctly specified.\n",
      "[2] The condition number is large, 4.9e+04. This might indicate that there are\n",
      "strong multicollinearity or other numerical problems.\n"
     ]
    }
   ],
   "source": [
    "import statsmodels.api as sm\n",
    "from scipy import stats\n",
    "X2 = sm.add_constant(X)\n",
    "est = sm.OLS(y, X2)\n",
    "est2 = est.fit()\n",
    "print(est2.summary())"
   ]
  },
  {
   "cell_type": "code",
   "execution_count": null,
   "metadata": {},
   "outputs": [],
   "source": [
    "# we have added a new variable country(ioc1, ioc2) after the presentation"
   ]
  }
 ],
 "metadata": {
  "kernelspec": {
   "display_name": "Python 3",
   "language": "python",
   "name": "python3"
  },
  "language_info": {
   "codemirror_mode": {
    "name": "ipython",
    "version": 3
   },
   "file_extension": ".py",
   "mimetype": "text/x-python",
   "name": "python",
   "nbconvert_exporter": "python",
   "pygments_lexer": "ipython3",
   "version": "3.7.0"
  }
 },
 "nbformat": 4,
 "nbformat_minor": 2
}
