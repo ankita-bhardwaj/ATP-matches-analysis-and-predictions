{
 "cells": [
  {
   "cell_type": "code",
   "execution_count": 1,
   "metadata": {},
   "outputs": [],
   "source": [
    "import pandas as pd"
   ]
  },
  {
   "cell_type": "code",
   "execution_count": 2,
   "metadata": {},
   "outputs": [],
   "source": [
    "df=pd.read_csv('australian.csv')"
   ]
  },
  {
   "cell_type": "code",
   "execution_count": 3,
   "metadata": {},
   "outputs": [
    {
     "data": {
      "text/plain": [
       "Index(['Unnamed: 0', 'age1', 'age2', 'best_of', 'draw_size', 'hand1', 'hand2',\n",
       "       'ht1', 'ht2', 'id1', 'id2', 'ioc1', 'ioc2', 'loser1', 'loser2',\n",
       "       'match_num', 'name1', 'rank1', 'rank2', 'round', 'win', 'year'],\n",
       "      dtype='object')"
      ]
     },
     "execution_count": 3,
     "metadata": {},
     "output_type": "execute_result"
    }
   ],
   "source": [
    "df.columns"
   ]
  },
  {
   "cell_type": "code",
   "execution_count": 4,
   "metadata": {},
   "outputs": [],
   "source": [
    "df=df.drop(columns=['Unnamed: 0','loser1','loser2','name1','id1','id2'])"
   ]
  },
  {
   "cell_type": "code",
   "execution_count": 5,
   "metadata": {},
   "outputs": [
    {
     "data": {
      "text/plain": [
       "Index(['age1', 'age2', 'best_of', 'draw_size', 'hand1', 'hand2', 'ht1', 'ht2',\n",
       "       'ioc1', 'ioc2', 'match_num', 'rank1', 'rank2', 'round', 'win', 'year'],\n",
       "      dtype='object')"
      ]
     },
     "execution_count": 5,
     "metadata": {},
     "output_type": "execute_result"
    }
   ],
   "source": [
    "df.columns"
   ]
  },
  {
   "cell_type": "code",
   "execution_count": 6,
   "metadata": {},
   "outputs": [],
   "source": [
    "df.hand1 = pd.Categorical(df.hand1).codes\n",
    "df.hand2 = pd.Categorical(df.hand2).codes\n",
    "df.ioc1 = pd.Categorical(df.ioc1).codes\n",
    "df.ioc2 = pd.Categorical(df.ioc2).codes"
   ]
  },
  {
   "cell_type": "code",
   "execution_count": 7,
   "metadata": {},
   "outputs": [],
   "source": [
    "y=df['win']\n",
    "X=df.drop(columns='win')\n",
    "from sklearn.model_selection import train_test_split\n",
    "X_train, X_test, y_train, y_test = train_test_split(X, y, test_size=0.25)"
   ]
  },
  {
   "cell_type": "code",
   "execution_count": 8,
   "metadata": {},
   "outputs": [
    {
     "data": {
      "text/plain": [
       "LogisticRegression(C=1.0, class_weight=None, dual=False, fit_intercept=True,\n",
       "          intercept_scaling=1, max_iter=100, multi_class='ovr', n_jobs=1,\n",
       "          penalty='l2', random_state=None, solver='liblinear', tol=0.0001,\n",
       "          verbose=0, warm_start=False)"
      ]
     },
     "execution_count": 8,
     "metadata": {},
     "output_type": "execute_result"
    }
   ],
   "source": [
    "from sklearn.linear_model import LogisticRegression\n",
    "logisticRegr = LogisticRegression()\n",
    "logisticRegr.fit(X_train, y_train)"
   ]
  },
  {
   "cell_type": "code",
   "execution_count": 9,
   "metadata": {},
   "outputs": [
    {
     "name": "stdout",
     "output_type": "stream",
     "text": [
      "0.7036144578313253\n"
     ]
    }
   ],
   "source": [
    "score = logisticRegr.score(X_test, y_test)\n",
    "print(score)  #when done in R it was showing a higher value"
   ]
  },
  {
   "cell_type": "code",
   "execution_count": 10,
   "metadata": {},
   "outputs": [
    {
     "name": "stdout",
     "output_type": "stream",
     "text": [
      "                            OLS Regression Results                            \n",
      "==============================================================================\n",
      "Dep. Variable:                    win   R-squared:                       0.137\n",
      "Model:                            OLS   Adj. R-squared:                  0.136\n",
      "Method:                 Least Squares   F-statistic:                     94.02\n",
      "Date:                Sun, 05 May 2019   Prob (F-statistic):          2.50e-252\n",
      "Time:                        19:11:07   Log-Likelihood:                -5410.7\n",
      "No. Observations:                8298   AIC:                         1.085e+04\n",
      "Df Residuals:                    8283   BIC:                         1.096e+04\n",
      "Df Model:                          14                                         \n",
      "Covariance Type:            nonrobust                                         \n",
      "==============================================================================\n",
      "                 coef    std err          t      P>|t|      [0.025      0.975]\n",
      "------------------------------------------------------------------------------\n",
      "age1          -0.0060      0.001     -4.062      0.000      -0.009      -0.003\n",
      "age2           0.0060      0.001      4.062      0.000       0.003       0.009\n",
      "best_of        0.1000      0.290      0.344      0.731      -0.469       0.669\n",
      "draw_size   1.373e-17      0.000   2.96e-14      1.000      -0.001       0.001\n",
      "hand1          0.0045      0.015      0.305      0.761      -0.024       0.033\n",
      "hand2         -0.0045      0.015     -0.305      0.761      -0.033       0.024\n",
      "ht1            0.0014      0.001      1.702      0.089      -0.000       0.003\n",
      "ht2           -0.0014      0.001     -1.702      0.089      -0.003       0.000\n",
      "ioc1           0.0010      0.000      4.585      0.000       0.001       0.001\n",
      "ioc2          -0.0010      0.000     -4.585      0.000      -0.001      -0.001\n",
      "match_num    8.87e-18      0.000   4.41e-14      1.000      -0.000       0.000\n",
      "rank1         -0.0015   6.52e-05    -23.737      0.000      -0.002      -0.001\n",
      "rank2          0.0015   6.52e-05     23.737      0.000       0.001       0.002\n",
      "round      -2.353e-17      0.006  -3.67e-15      1.000      -0.013       0.013\n",
      "year       -7.071e-18      0.001  -9.36e-15      1.000      -0.001       0.001\n",
      "==============================================================================\n",
      "Omnibus:                        0.000   Durbin-Watson:                   0.271\n",
      "Prob(Omnibus):                  1.000   Jarque-Bera (JB):              793.074\n",
      "Skew:                          -0.000   Prob(JB):                    6.11e-173\n",
      "Kurtosis:                       1.485   Cond. No.                     1.15e+05\n",
      "==============================================================================\n",
      "\n",
      "Warnings:\n",
      "[1] Standard Errors assume that the covariance matrix of the errors is correctly specified.\n",
      "[2] The condition number is large, 1.15e+05. This might indicate that there are\n",
      "strong multicollinearity or other numerical problems.\n"
     ]
    }
   ],
   "source": [
    "import statsmodels.api as sm\n",
    "from scipy import stats\n",
    "X2 = sm.add_constant(X)\n",
    "est = sm.OLS(y, X2)\n",
    "est2 = est.fit()\n",
    "print(est2.summary())"
   ]
  },
  {
   "cell_type": "code",
   "execution_count": null,
   "metadata": {},
   "outputs": [],
   "source": [
    "# we have added a new variable country(ioc1, ioc2) after the presentation"
   ]
  }
 ],
 "metadata": {
  "kernelspec": {
   "display_name": "Python 3",
   "language": "python",
   "name": "python3"
  },
  "language_info": {
   "codemirror_mode": {
    "name": "ipython",
    "version": 3
   },
   "file_extension": ".py",
   "mimetype": "text/x-python",
   "name": "python",
   "nbconvert_exporter": "python",
   "pygments_lexer": "ipython3",
   "version": "3.7.0"
  }
 },
 "nbformat": 4,
 "nbformat_minor": 2
}
